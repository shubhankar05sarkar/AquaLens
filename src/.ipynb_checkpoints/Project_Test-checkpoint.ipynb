{
 "cells": [
  {
   "cell_type": "code",
   "execution_count": null,
   "id": "2c43e3db-f09f-412a-b94c-abb95e80ccee",
   "metadata": {},
   "outputs": [],
   "source": [
    "import tkinter as tk\n",
    "import gui\n",
    "root = tk.Tk()\n",
    "app = gui.AquaLensApp(root)\n",
    "root.mainloop()"
   ]
  }
 ],
 "metadata": {
  "kernelspec": {
   "display_name": "Python 3 (ipykernel)",
   "language": "python",
   "name": "python3"
  },
  "language_info": {
   "codemirror_mode": {
    "name": "ipython",
    "version": 3
   },
   "file_extension": ".py",
   "mimetype": "text/x-python",
   "name": "python",
   "nbconvert_exporter": "python",
   "pygments_lexer": "ipython3",
   "version": "3.13.2"
  }
 },
 "nbformat": 4,
 "nbformat_minor": 5
}
